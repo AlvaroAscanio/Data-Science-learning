{
 "cells": [
  {
   "cell_type": "markdown",
   "id": "fc368f28-f1e5-4e7b-8838-1e8138f03e57",
   "metadata": {},
   "source": [
    "# Data Science Tools and Ecosystem #"
   ]
  },
  {
   "cell_type": "markdown",
   "id": "55f3b4cd-4ce2-4033-8426-0cd744c75e0a",
   "metadata": {},
   "source": [
    "In this notebook, Data Science Tools and Ecosystem are summarized."
   ]
  },
  {
   "cell_type": "markdown",
   "id": "95494567-48d6-4c8a-8243-190ffb16ce1e",
   "metadata": {},
   "source": [
    "__Objetives:__\n",
    "+ List popular languages for Data Science.\n",
    "+ List commonly used libraries used by Data Scientists.\n",
    "+ Create a new table.\n",
    "+ Evaluate arithmetic expressions.\n"
   ]
  },
  {
   "cell_type": "markdown",
   "id": "691c913f-6b40-4531-866f-aa9513325ee2",
   "metadata": {},
   "source": [
    "Some of the popular Languages that Data Scientists use are:\n",
    "1. Julia\n",
    "2. Python\n",
    "3. R\n",
    "4. C++"
   ]
  },
  {
   "cell_type": "markdown",
   "id": "481ab313-d7ba-42dd-81c8-9b138d31ac2c",
   "metadata": {},
   "source": [
    "Some of the commonly used libraries used by Data Scientists include:\n",
    "1. Pandas\n",
    "2. Numpy\n",
    "3. Matplolib\n",
    "4. scikit-learn "
   ]
  },
  {
   "cell_type": "markdown",
   "id": "106b44b2-bb30-4710-a98c-90060ba46aa5",
   "metadata": {},
   "source": [
    "|Data Science Tools|\n",
    "|------------------|\n",
    "|Rstudio|\n",
    "|JupyterNotebook|\n",
    "|VisualStudioCode|\n",
    "|JupyterLab|\n",
    "|Google Colab|"
   ]
  },
  {
   "cell_type": "markdown",
   "id": "2b22f35e-cdfb-4905-a79c-eb7864124e4e",
   "metadata": {},
   "source": [
    "### Below are a few examples of evaluating arithmetic expressions in Python ###"
   ]
  },
  {
   "cell_type": "code",
   "execution_count": 2,
   "id": "54928347-1bc2-43ff-949b-49dcc21154f7",
   "metadata": {},
   "outputs": [
    {
     "data": {
      "text/plain": [
       "17"
      ]
     },
     "execution_count": 2,
     "metadata": {},
     "output_type": "execute_result"
    }
   ],
   "source": [
    "# This is a simple arithmetic expression to multiply then add integers\n",
    "(3*4)+5"
   ]
  },
  {
   "cell_type": "code",
   "execution_count": 3,
   "id": "1dea281e-60fa-44d7-8a37-2feb872e07d5",
   "metadata": {},
   "outputs": [
    {
     "data": {
      "text/plain": [
       "3.3333333333333335"
      ]
     },
     "execution_count": 3,
     "metadata": {},
     "output_type": "execute_result"
    }
   ],
   "source": [
    "#This will convert 200 minutes to hours by dividing by 60\n",
    "(200/60)"
   ]
  },
  {
   "cell_type": "markdown",
   "id": "23c948f8-87a7-4356-8d5c-d489210b0a81",
   "metadata": {},
   "source": [
    " ## Autor ## \n",
    " Alvaro Jose Ascanio Sanchez"
   ]
  }
 ],
 "metadata": {
  "kernelspec": {
   "display_name": "Python 3 (ipykernel)",
   "language": "python",
   "name": "python3"
  },
  "language_info": {
   "codemirror_mode": {
    "name": "ipython",
    "version": 3
   },
   "file_extension": ".py",
   "mimetype": "text/x-python",
   "name": "python",
   "nbconvert_exporter": "python",
   "pygments_lexer": "ipython3",
   "version": "3.9.18"
  }
 },
 "nbformat": 4,
 "nbformat_minor": 5
}
